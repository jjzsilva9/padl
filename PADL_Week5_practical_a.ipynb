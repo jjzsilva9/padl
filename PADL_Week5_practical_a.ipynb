{
  "nbformat": 4,
  "nbformat_minor": 0,
  "metadata": {
    "colab": {
      "provenance": [],
      "include_colab_link": true
    },
    "kernelspec": {
      "name": "python3",
      "display_name": "Python 3"
    }
  },
  "cells": [
    {
      "cell_type": "markdown",
      "metadata": {
        "id": "view-in-github",
        "colab_type": "text"
      },
      "source": [
        "<a href=\"https://colab.research.google.com/github/jjzsilva9/padl/blob/main/PADL_Week5_practical_a.ipynb\" target=\"_parent\"><img src=\"https://colab.research.google.com/assets/colab-badge.svg\" alt=\"Open In Colab\"/></a>"
      ]
    },
    {
      "cell_type": "markdown",
      "metadata": {
        "id": "CMYN-oGrin2f"
      },
      "source": [
        "#PADL Week 5 Practical: Logistic Regression"
      ]
    },
    {
      "cell_type": "markdown",
      "metadata": {
        "id": "oXpBjnccCaeB"
      },
      "source": [
        "##Logistic regression with scikit-learn"
      ]
    },
    {
      "cell_type": "code",
      "source": [],
      "metadata": {
        "id": "YXY9MR5XfVFK"
      },
      "execution_count": null,
      "outputs": []
    },
    {
      "cell_type": "markdown",
      "metadata": {
        "id": "6myqPpcch7Ot"
      },
      "source": [
        "**Initial reading:**\n",
        "\n",
        "Reading and understanding the scikit-learn examples on logistic regression is a good way to get started. There are no fewer than 5 examples given in the [logistic regression section](https://scikit-learn.org/stable/modules/linear_model.html#logistic-regression) of the scikit-learn User manual. Feel free to look at all five but for sure look at the first two: L1 Penalty and Sparsity in Logistic Regression and Regularization path of L1- Logistic Regression. You will see that by default scikit-learn uses an L2 penalty (like in ridge regression) but it is also possible to use an\n",
        "L1 penalty (like in lasso regression). Built-in cross-validation support for choosing the ‘right’ value for the complexity parameter is also available via the [LogisticRegressionCV class](https://scikit-learn.org/stable/modules/generated/sklearn.linear_model.LogisticRegressionCV.html)."
      ]
    },
    {
      "cell_type": "markdown",
      "metadata": {
        "id": "-f0mfY66i3od"
      },
      "source": [
        "**Diagnosing breast cancer:**\n",
        "\n",
        "Go to the Breast Cancer Wisconsin (Diagnostic) data set [webpage](https://archive.ics.uci.edu/ml/datasets/Breast+Cancer+Wisconsin+(Diagnostic)). If you click on the ‘Data Folder’ link near the top of the page, then you will be able to get the data. It is the file [breast-cancer-wisconsin.data](https://archive.ics.uci.edu/ml/machine-learning-databases/breast-cancer-wisconsin/). You can either upload this to the session storage for your colab notebook (but it will be lost each time your session times out, although you can add `!wget -q https://archive.ics.uci.edu/ml/machine-learning-databases/breast-cancer-wisconsin/breast-cancer-wisconsin.data` to your script to automatically download to session storage each time it runs - as done below) or you can mount a google drive folder and store the file there.\n",
        "\n",
        "To save you hassle of working out how to get this data into a Python program is some code to read this data in, and then remove any datapoints containing missing values:"
      ]
    },
    {
      "cell_type": "code",
      "metadata": {
        "id": "Av-3BYxA_6an"
      },
      "source": [
        "!wget -q https://archive.ics.uci.edu/ml/machine-learning-databases/breast-cancer-wisconsin/breast-cancer-wisconsin.data\n",
        "\n",
        "import numpy as np\n",
        "from sklearn.linear_model import LogisticRegression\n",
        "\n",
        "data = np.genfromtxt('breast-cancer-wisconsin.data',delimiter=',',missing_values='?')\n",
        "data = data[~np.isnan(data).any(axis=1)]\n",
        "X = data[:,1:-1] # ignore first column and omit class variable at the end\n",
        "y = data[:,-1]"
      ],
      "execution_count": 1,
      "outputs": []
    },
    {
      "cell_type": "markdown",
      "metadata": {
        "id": "3sBf4NvBlYH6"
      },
      "source": [
        "**To do:**\n",
        "\n",
        "Now use logistic regression to build a model to predict either malignant or benign. In fact, I would like you to build a number of logistic regression models where you *vary the size of the training data* and where you *vary the complexity parameter setting*. In all cases use whatever data you have excluded from training as a test set, and compute the score.\n",
        "\n",
        "Check that training on more data increases predictive accuracy and compare the performance of different complexity parameter settings on smaller training sets."
      ]
    },
    {
      "cell_type": "markdown",
      "metadata": {
        "id": "DdXeG5YmCk5H"
      },
      "source": [
        "##Logistic Regression in PyTorch\n",
        "\n",
        "Below is a straightforward re-implementation of logistic regression in PyTorch. Nearly all of this should now be very familiar to you. We put our logistic regression model in a superclass of `torch.nn.Module`. The model itself consists of a linear layer mapping 9 input features to 1 output. This is then passed through a sigmoid layer so that the model outputs probability of one of the two classes. Since we are doing binary cross entropy loss, we use `torch.nn.BCELoss` as our loss function (note: the sigmoid is applied inside the model so we don't use the version of the loss function that combines sigmoid and BCE - but this would be a perfectly valid alternative). We train as normal and evaluate on the test set. But this time, we threshold the output probabilities to make our final hard class decisions and compute the percent correct.\n",
        "\n",
        "**To do:**\n",
        "\n",
        "Read and understand this code block. Run it. Print out the shapes of the tensors as they pass through the `logisticRegression` model (all tensors have a `shape` attribute). Make sure the shapes corresponds with your understanding of what each layer is doing. Try changing the training set size, number of training iterations and learning rate and see the effect."
      ]
    },
    {
      "cell_type": "code",
      "metadata": {
        "id": "5Ne9-ddWCpP3",
        "outputId": "55aacf5b-39bd-41cd-fd6b-7a756d2b3ee7",
        "colab": {
          "base_uri": "https://localhost:8080/"
        }
      },
      "source": [
        "import torch\n",
        "\n",
        "class logisticRegression(torch.nn.Module):\n",
        "    def __init__(self, inputSize):\n",
        "        # Call superclass constructor\n",
        "        super(logisticRegression, self).__init__()\n",
        "        # Initialise components of model:\n",
        "        # 1. Linear layer\n",
        "        self.linear = torch.nn.Linear(inputSize, 1)\n",
        "        # 2. Sigmoid layer\n",
        "        self.sigmoid = torch.nn.Sigmoid()\n",
        "\n",
        "    def forward(self, x):\n",
        "        # Forward pass through the model:\n",
        "        # 1. Apply linear layer to input\n",
        "        y = self.linear(x)\n",
        "        # 2. Apply sigmoid to output of linear layer\n",
        "        y = self.sigmoid(y)\n",
        "        return y\n",
        "\n",
        "# Instantiate model logistic regression model 9 channel input\n",
        "model = logisticRegression(9)\n",
        "# Instantiate loss function (binary cross entropy loss - sigmoid applied inside model)\n",
        "criterion = torch.nn.BCELoss()\n",
        "# Setup optimiser\n",
        "optim = torch.optim.SGD(model.parameters(), lr=0.1)\n",
        "print(len(X))\n",
        "training_size = 500\n",
        "epochs = 1200\n",
        "\n",
        "# Convert labels to binary 0/1 classes as expected by PyTorch\n",
        "y_01 = np.array([0 if x==2 else 1 for x in data[:,-1]])\n",
        "\n",
        "# Split train/test and convert to PyTorch tensors\n",
        "X_train_tensor = torch.from_numpy(np.float32(X[:training_size]))\n",
        "Y_train_tensor = torch.from_numpy(np.float32(y_01[:training_size])).unsqueeze(1)\n",
        "X_test_tensor = torch.from_numpy(np.float32(X[training_size:]))\n",
        "Y_test_tensor = torch.from_numpy(np.float32(y_01[training_size:])).unsqueeze(1)\n",
        "\n",
        "# Main training loop\n",
        "for epoch in range(epochs):\n",
        "    # Pass training data through model\n",
        "    y_predict = model(X_train_tensor)\n",
        "    # Compute BCE loss\n",
        "    loss = criterion(y_predict,Y_train_tensor)\n",
        "    # Backward pass and gradient step\n",
        "    optim.zero_grad()\n",
        "    loss.backward()\n",
        "    optim.step()\n",
        "    if not epoch % 10:\n",
        "        # Print out the loss every 200 iterations\n",
        "        print('epoch {}, loss {}'.format(epoch, loss.item()))\n",
        "\n",
        "# Pass training set set through model\n",
        "y_predict = model(X_train_tensor)\n",
        "# Threshold probabilities to binary classes\n",
        "predictions = (y_predict>0.5).float()\n",
        "# Compare predicted classes to labels\n",
        "correct = (predictions == Y_train_tensor).float().sum()\n",
        "print(\"Percent training set correctly classified: {:.2f}%\".format(100*correct/training_size))\n",
        "\n",
        "# Pass test set through model\n",
        "y_predict = model(X_test_tensor)\n",
        "# Threshold probabilities to binary classes\n",
        "predictions = (y_predict>0.5).float()\n",
        "# Compare predicted classes to labels\n",
        "correct = (predictions == Y_test_tensor).float().sum()\n",
        "print(\"Percent test set correctly classified: {:.2f}%\".format(100*correct/X_test_tensor.shape[0]))"
      ],
      "execution_count": 17,
      "outputs": [
        {
          "output_type": "stream",
          "name": "stdout",
          "text": [
            "683\n",
            "epoch 0, loss 0.8508651256561279\n",
            "epoch 10, loss 0.4974907636642456\n",
            "epoch 20, loss 0.4363153278827667\n",
            "epoch 30, loss 0.4002538323402405\n",
            "epoch 40, loss 0.37596169114112854\n",
            "epoch 50, loss 0.35786762833595276\n",
            "epoch 60, loss 0.34333762526512146\n",
            "epoch 70, loss 0.33104950189590454\n",
            "epoch 80, loss 0.32029756903648376\n",
            "epoch 90, loss 0.3106766939163208\n",
            "epoch 100, loss 0.30193689465522766\n",
            "epoch 110, loss 0.2939133942127228\n",
            "epoch 120, loss 0.2864910960197449\n",
            "epoch 130, loss 0.2795857787132263\n",
            "epoch 140, loss 0.2731332778930664\n",
            "epoch 150, loss 0.2670827805995941\n",
            "epoch 160, loss 0.26139312982559204\n",
            "epoch 170, loss 0.2560299336910248\n",
            "epoch 180, loss 0.2509641945362091\n",
            "epoch 190, loss 0.24617086350917816\n",
            "epoch 200, loss 0.24162805080413818\n",
            "epoch 210, loss 0.23731648921966553\n",
            "epoch 220, loss 0.23321904242038727\n",
            "epoch 230, loss 0.2293204516172409\n",
            "epoch 240, loss 0.22560681402683258\n",
            "epoch 250, loss 0.2220657914876938\n",
            "epoch 260, loss 0.21868588030338287\n",
            "epoch 270, loss 0.21545684337615967\n",
            "epoch 280, loss 0.2123691588640213\n",
            "epoch 290, loss 0.20941412448883057\n",
            "epoch 300, loss 0.20658379793167114\n",
            "epoch 310, loss 0.20387081801891327\n",
            "epoch 320, loss 0.20126840472221375\n",
            "epoch 330, loss 0.19877025485038757\n",
            "epoch 340, loss 0.196370467543602\n",
            "epoch 350, loss 0.19406375288963318\n",
            "epoch 360, loss 0.19184502959251404\n",
            "epoch 370, loss 0.1897096037864685\n",
            "epoch 380, loss 0.18765315413475037\n",
            "epoch 390, loss 0.18567155301570892\n",
            "epoch 400, loss 0.18376103043556213\n",
            "epoch 410, loss 0.18191802501678467\n",
            "epoch 420, loss 0.18013916909694672\n",
            "epoch 430, loss 0.17842139303684235\n",
            "epoch 440, loss 0.1767617166042328\n",
            "epoch 450, loss 0.17515744268894196\n",
            "epoch 460, loss 0.17360590398311615\n",
            "epoch 470, loss 0.17210477590560913\n",
            "epoch 480, loss 0.1706516593694687\n",
            "epoch 490, loss 0.16924451291561127\n",
            "epoch 500, loss 0.16788119077682495\n",
            "epoch 510, loss 0.1665598303079605\n",
            "epoch 520, loss 0.1652785986661911\n",
            "epoch 530, loss 0.16403579711914062\n",
            "epoch 540, loss 0.16282978653907776\n",
            "epoch 550, loss 0.16165906190872192\n",
            "epoch 560, loss 0.16052213311195374\n",
            "epoch 570, loss 0.15941765904426575\n",
            "epoch 580, loss 0.1583443135023117\n",
            "epoch 590, loss 0.1573008894920349\n",
            "epoch 600, loss 0.15628619492053986\n",
            "epoch 610, loss 0.1552990823984146\n",
            "epoch 620, loss 0.154338538646698\n",
            "epoch 630, loss 0.15340353548526764\n",
            "epoch 640, loss 0.15249310433864594\n",
            "epoch 650, loss 0.15160638093948364\n",
            "epoch 660, loss 0.15074241161346436\n",
            "epoch 670, loss 0.14990048110485077\n",
            "epoch 680, loss 0.14907968044281006\n",
            "epoch 690, loss 0.1482793390750885\n",
            "epoch 700, loss 0.14749868214130402\n",
            "epoch 710, loss 0.14673705399036407\n",
            "epoch 720, loss 0.14599382877349854\n",
            "epoch 730, loss 0.14526832103729248\n",
            "epoch 740, loss 0.14455996453762054\n",
            "epoch 750, loss 0.14386819303035736\n",
            "epoch 760, loss 0.14319242537021637\n",
            "epoch 770, loss 0.14253216981887817\n",
            "epoch 780, loss 0.1418868899345398\n",
            "epoch 790, loss 0.1412561535835266\n",
            "epoch 800, loss 0.14063945412635803\n",
            "epoch 810, loss 0.14003637433052063\n",
            "epoch 820, loss 0.13944648206233978\n",
            "epoch 830, loss 0.13886934518814087\n",
            "epoch 840, loss 0.13830462098121643\n",
            "epoch 850, loss 0.13775189220905304\n",
            "epoch 860, loss 0.13721083104610443\n",
            "epoch 870, loss 0.13668105006217957\n",
            "epoch 880, loss 0.13616225123405457\n",
            "epoch 890, loss 0.13565407693386078\n",
            "epoch 900, loss 0.13515625894069672\n",
            "epoch 910, loss 0.1346685141324997\n",
            "epoch 920, loss 0.13419046998023987\n",
            "epoch 930, loss 0.1337219476699829\n",
            "epoch 940, loss 0.13326260447502136\n",
            "epoch 950, loss 0.1328122764825821\n",
            "epoch 960, loss 0.13237060606479645\n",
            "epoch 970, loss 0.1319374442100525\n",
            "epoch 980, loss 0.13151252269744873\n",
            "epoch 990, loss 0.13109561800956726\n",
            "epoch 1000, loss 0.13068652153015137\n",
            "epoch 1010, loss 0.13028503954410553\n",
            "epoch 1020, loss 0.12989096343517303\n",
            "epoch 1030, loss 0.12950406968593597\n",
            "epoch 1040, loss 0.1291242390871048\n",
            "epoch 1050, loss 0.1287512332201004\n",
            "epoch 1060, loss 0.12838491797447205\n",
            "epoch 1070, loss 0.1280250996351242\n",
            "epoch 1080, loss 0.12767161428928375\n",
            "epoch 1090, loss 0.12732431292533875\n",
            "epoch 1100, loss 0.12698304653167725\n",
            "epoch 1110, loss 0.1266476958990097\n",
            "epoch 1120, loss 0.1263180524110794\n",
            "epoch 1130, loss 0.125994011759758\n",
            "epoch 1140, loss 0.12567545473575592\n",
            "epoch 1150, loss 0.12536221742630005\n",
            "epoch 1160, loss 0.1250542402267456\n",
            "epoch 1170, loss 0.12475132942199707\n",
            "epoch 1180, loss 0.12445339560508728\n",
            "epoch 1190, loss 0.12416030466556549\n",
            "Percent training set correctly classified: 96.20%\n",
            "Percent test set correctly classified: 100.00%\n"
          ]
        }
      ]
    }
  ]
}