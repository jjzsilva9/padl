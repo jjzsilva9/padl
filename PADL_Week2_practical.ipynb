{
  "nbformat": 4,
  "nbformat_minor": 0,
  "metadata": {
    "colab": {
      "provenance": [],
      "include_colab_link": true
    },
    "kernelspec": {
      "name": "python3",
      "display_name": "Python 3"
    },
    "language_info": {
      "name": "python"
    }
  },
  "cells": [
    {
      "cell_type": "markdown",
      "metadata": {
        "id": "view-in-github",
        "colab_type": "text"
      },
      "source": [
        "<a href=\"https://colab.research.google.com/github/jjzsilva9/padl/blob/main/PADL_Week2_practical.ipynb\" target=\"_parent\"><img src=\"https://colab.research.google.com/assets/colab-badge.svg\" alt=\"Open In Colab\"/></a>"
      ]
    },
    {
      "cell_type": "markdown",
      "metadata": {
        "id": "MA2xDK4uX_dj"
      },
      "source": [
        "#PADL Practical 1: Linear regression"
      ]
    },
    {
      "cell_type": "markdown",
      "metadata": {
        "id": "ViXjsMPFYIju"
      },
      "source": [
        "##Linear regression in scikit-learn"
      ]
    },
    {
      "cell_type": "markdown",
      "metadata": {
        "id": "6PEB5zeoyNdZ"
      },
      "source": [
        "We'll be using [scikit-learn](https://scikit-learn.org/stable/), [NumPy](https://numpy.org) and [matplotlib](https://matplotlib.org/). You can expect to be consulting the documentation on these libraries on a regular basis."
      ]
    },
    {
      "cell_type": "markdown",
      "metadata": {
        "id": "X8zhGk9k8jzs"
      },
      "source": [
        "Begin by reading the scikit-learn [introduction to linear regression](https://scikit-learn.org/stable/modules/linear_model.html#ordinary-least-squares)  (up to and including Section 1.1.1 on Ordinary Least Squares). Note the comment on feature independence vs. multicollinearity, then try to run the following 4 lines of code copied from that page:"
      ]
    },
    {
      "cell_type": "code",
      "metadata": {
        "id": "JzSMa9CG-CTF",
        "colab": {
          "base_uri": "https://localhost:8080/",
          "height": 80
        },
        "outputId": "dd06ec7e-5bef-400d-eba5-e399d05dc6f7"
      },
      "source": [
        "from sklearn import linear_model\n",
        "reg = linear_model.LinearRegression()\n",
        "reg.fit([[0, 0], [1, 1], [2, 2]], [0, 1, 2])"
      ],
      "execution_count": 5,
      "outputs": [
        {
          "output_type": "execute_result",
          "data": {
            "text/plain": [
              "LinearRegression()"
            ],
            "text/html": [
              "<style>#sk-container-id-2 {\n",
              "  /* Definition of color scheme common for light and dark mode */\n",
              "  --sklearn-color-text: #000;\n",
              "  --sklearn-color-text-muted: #666;\n",
              "  --sklearn-color-line: gray;\n",
              "  /* Definition of color scheme for unfitted estimators */\n",
              "  --sklearn-color-unfitted-level-0: #fff5e6;\n",
              "  --sklearn-color-unfitted-level-1: #f6e4d2;\n",
              "  --sklearn-color-unfitted-level-2: #ffe0b3;\n",
              "  --sklearn-color-unfitted-level-3: chocolate;\n",
              "  /* Definition of color scheme for fitted estimators */\n",
              "  --sklearn-color-fitted-level-0: #f0f8ff;\n",
              "  --sklearn-color-fitted-level-1: #d4ebff;\n",
              "  --sklearn-color-fitted-level-2: #b3dbfd;\n",
              "  --sklearn-color-fitted-level-3: cornflowerblue;\n",
              "\n",
              "  /* Specific color for light theme */\n",
              "  --sklearn-color-text-on-default-background: var(--sg-text-color, var(--theme-code-foreground, var(--jp-content-font-color1, black)));\n",
              "  --sklearn-color-background: var(--sg-background-color, var(--theme-background, var(--jp-layout-color0, white)));\n",
              "  --sklearn-color-border-box: var(--sg-text-color, var(--theme-code-foreground, var(--jp-content-font-color1, black)));\n",
              "  --sklearn-color-icon: #696969;\n",
              "\n",
              "  @media (prefers-color-scheme: dark) {\n",
              "    /* Redefinition of color scheme for dark theme */\n",
              "    --sklearn-color-text-on-default-background: var(--sg-text-color, var(--theme-code-foreground, var(--jp-content-font-color1, white)));\n",
              "    --sklearn-color-background: var(--sg-background-color, var(--theme-background, var(--jp-layout-color0, #111)));\n",
              "    --sklearn-color-border-box: var(--sg-text-color, var(--theme-code-foreground, var(--jp-content-font-color1, white)));\n",
              "    --sklearn-color-icon: #878787;\n",
              "  }\n",
              "}\n",
              "\n",
              "#sk-container-id-2 {\n",
              "  color: var(--sklearn-color-text);\n",
              "}\n",
              "\n",
              "#sk-container-id-2 pre {\n",
              "  padding: 0;\n",
              "}\n",
              "\n",
              "#sk-container-id-2 input.sk-hidden--visually {\n",
              "  border: 0;\n",
              "  clip: rect(1px 1px 1px 1px);\n",
              "  clip: rect(1px, 1px, 1px, 1px);\n",
              "  height: 1px;\n",
              "  margin: -1px;\n",
              "  overflow: hidden;\n",
              "  padding: 0;\n",
              "  position: absolute;\n",
              "  width: 1px;\n",
              "}\n",
              "\n",
              "#sk-container-id-2 div.sk-dashed-wrapped {\n",
              "  border: 1px dashed var(--sklearn-color-line);\n",
              "  margin: 0 0.4em 0.5em 0.4em;\n",
              "  box-sizing: border-box;\n",
              "  padding-bottom: 0.4em;\n",
              "  background-color: var(--sklearn-color-background);\n",
              "}\n",
              "\n",
              "#sk-container-id-2 div.sk-container {\n",
              "  /* jupyter's `normalize.less` sets `[hidden] { display: none; }`\n",
              "     but bootstrap.min.css set `[hidden] { display: none !important; }`\n",
              "     so we also need the `!important` here to be able to override the\n",
              "     default hidden behavior on the sphinx rendered scikit-learn.org.\n",
              "     See: https://github.com/scikit-learn/scikit-learn/issues/21755 */\n",
              "  display: inline-block !important;\n",
              "  position: relative;\n",
              "}\n",
              "\n",
              "#sk-container-id-2 div.sk-text-repr-fallback {\n",
              "  display: none;\n",
              "}\n",
              "\n",
              "div.sk-parallel-item,\n",
              "div.sk-serial,\n",
              "div.sk-item {\n",
              "  /* draw centered vertical line to link estimators */\n",
              "  background-image: linear-gradient(var(--sklearn-color-text-on-default-background), var(--sklearn-color-text-on-default-background));\n",
              "  background-size: 2px 100%;\n",
              "  background-repeat: no-repeat;\n",
              "  background-position: center center;\n",
              "}\n",
              "\n",
              "/* Parallel-specific style estimator block */\n",
              "\n",
              "#sk-container-id-2 div.sk-parallel-item::after {\n",
              "  content: \"\";\n",
              "  width: 100%;\n",
              "  border-bottom: 2px solid var(--sklearn-color-text-on-default-background);\n",
              "  flex-grow: 1;\n",
              "}\n",
              "\n",
              "#sk-container-id-2 div.sk-parallel {\n",
              "  display: flex;\n",
              "  align-items: stretch;\n",
              "  justify-content: center;\n",
              "  background-color: var(--sklearn-color-background);\n",
              "  position: relative;\n",
              "}\n",
              "\n",
              "#sk-container-id-2 div.sk-parallel-item {\n",
              "  display: flex;\n",
              "  flex-direction: column;\n",
              "}\n",
              "\n",
              "#sk-container-id-2 div.sk-parallel-item:first-child::after {\n",
              "  align-self: flex-end;\n",
              "  width: 50%;\n",
              "}\n",
              "\n",
              "#sk-container-id-2 div.sk-parallel-item:last-child::after {\n",
              "  align-self: flex-start;\n",
              "  width: 50%;\n",
              "}\n",
              "\n",
              "#sk-container-id-2 div.sk-parallel-item:only-child::after {\n",
              "  width: 0;\n",
              "}\n",
              "\n",
              "/* Serial-specific style estimator block */\n",
              "\n",
              "#sk-container-id-2 div.sk-serial {\n",
              "  display: flex;\n",
              "  flex-direction: column;\n",
              "  align-items: center;\n",
              "  background-color: var(--sklearn-color-background);\n",
              "  padding-right: 1em;\n",
              "  padding-left: 1em;\n",
              "}\n",
              "\n",
              "\n",
              "/* Toggleable style: style used for estimator/Pipeline/ColumnTransformer box that is\n",
              "clickable and can be expanded/collapsed.\n",
              "- Pipeline and ColumnTransformer use this feature and define the default style\n",
              "- Estimators will overwrite some part of the style using the `sk-estimator` class\n",
              "*/\n",
              "\n",
              "/* Pipeline and ColumnTransformer style (default) */\n",
              "\n",
              "#sk-container-id-2 div.sk-toggleable {\n",
              "  /* Default theme specific background. It is overwritten whether we have a\n",
              "  specific estimator or a Pipeline/ColumnTransformer */\n",
              "  background-color: var(--sklearn-color-background);\n",
              "}\n",
              "\n",
              "/* Toggleable label */\n",
              "#sk-container-id-2 label.sk-toggleable__label {\n",
              "  cursor: pointer;\n",
              "  display: flex;\n",
              "  width: 100%;\n",
              "  margin-bottom: 0;\n",
              "  padding: 0.5em;\n",
              "  box-sizing: border-box;\n",
              "  text-align: center;\n",
              "  align-items: start;\n",
              "  justify-content: space-between;\n",
              "  gap: 0.5em;\n",
              "}\n",
              "\n",
              "#sk-container-id-2 label.sk-toggleable__label .caption {\n",
              "  font-size: 0.6rem;\n",
              "  font-weight: lighter;\n",
              "  color: var(--sklearn-color-text-muted);\n",
              "}\n",
              "\n",
              "#sk-container-id-2 label.sk-toggleable__label-arrow:before {\n",
              "  /* Arrow on the left of the label */\n",
              "  content: \"▸\";\n",
              "  float: left;\n",
              "  margin-right: 0.25em;\n",
              "  color: var(--sklearn-color-icon);\n",
              "}\n",
              "\n",
              "#sk-container-id-2 label.sk-toggleable__label-arrow:hover:before {\n",
              "  color: var(--sklearn-color-text);\n",
              "}\n",
              "\n",
              "/* Toggleable content - dropdown */\n",
              "\n",
              "#sk-container-id-2 div.sk-toggleable__content {\n",
              "  max-height: 0;\n",
              "  max-width: 0;\n",
              "  overflow: hidden;\n",
              "  text-align: left;\n",
              "  /* unfitted */\n",
              "  background-color: var(--sklearn-color-unfitted-level-0);\n",
              "}\n",
              "\n",
              "#sk-container-id-2 div.sk-toggleable__content.fitted {\n",
              "  /* fitted */\n",
              "  background-color: var(--sklearn-color-fitted-level-0);\n",
              "}\n",
              "\n",
              "#sk-container-id-2 div.sk-toggleable__content pre {\n",
              "  margin: 0.2em;\n",
              "  border-radius: 0.25em;\n",
              "  color: var(--sklearn-color-text);\n",
              "  /* unfitted */\n",
              "  background-color: var(--sklearn-color-unfitted-level-0);\n",
              "}\n",
              "\n",
              "#sk-container-id-2 div.sk-toggleable__content.fitted pre {\n",
              "  /* unfitted */\n",
              "  background-color: var(--sklearn-color-fitted-level-0);\n",
              "}\n",
              "\n",
              "#sk-container-id-2 input.sk-toggleable__control:checked~div.sk-toggleable__content {\n",
              "  /* Expand drop-down */\n",
              "  max-height: 200px;\n",
              "  max-width: 100%;\n",
              "  overflow: auto;\n",
              "}\n",
              "\n",
              "#sk-container-id-2 input.sk-toggleable__control:checked~label.sk-toggleable__label-arrow:before {\n",
              "  content: \"▾\";\n",
              "}\n",
              "\n",
              "/* Pipeline/ColumnTransformer-specific style */\n",
              "\n",
              "#sk-container-id-2 div.sk-label input.sk-toggleable__control:checked~label.sk-toggleable__label {\n",
              "  color: var(--sklearn-color-text);\n",
              "  background-color: var(--sklearn-color-unfitted-level-2);\n",
              "}\n",
              "\n",
              "#sk-container-id-2 div.sk-label.fitted input.sk-toggleable__control:checked~label.sk-toggleable__label {\n",
              "  background-color: var(--sklearn-color-fitted-level-2);\n",
              "}\n",
              "\n",
              "/* Estimator-specific style */\n",
              "\n",
              "/* Colorize estimator box */\n",
              "#sk-container-id-2 div.sk-estimator input.sk-toggleable__control:checked~label.sk-toggleable__label {\n",
              "  /* unfitted */\n",
              "  background-color: var(--sklearn-color-unfitted-level-2);\n",
              "}\n",
              "\n",
              "#sk-container-id-2 div.sk-estimator.fitted input.sk-toggleable__control:checked~label.sk-toggleable__label {\n",
              "  /* fitted */\n",
              "  background-color: var(--sklearn-color-fitted-level-2);\n",
              "}\n",
              "\n",
              "#sk-container-id-2 div.sk-label label.sk-toggleable__label,\n",
              "#sk-container-id-2 div.sk-label label {\n",
              "  /* The background is the default theme color */\n",
              "  color: var(--sklearn-color-text-on-default-background);\n",
              "}\n",
              "\n",
              "/* On hover, darken the color of the background */\n",
              "#sk-container-id-2 div.sk-label:hover label.sk-toggleable__label {\n",
              "  color: var(--sklearn-color-text);\n",
              "  background-color: var(--sklearn-color-unfitted-level-2);\n",
              "}\n",
              "\n",
              "/* Label box, darken color on hover, fitted */\n",
              "#sk-container-id-2 div.sk-label.fitted:hover label.sk-toggleable__label.fitted {\n",
              "  color: var(--sklearn-color-text);\n",
              "  background-color: var(--sklearn-color-fitted-level-2);\n",
              "}\n",
              "\n",
              "/* Estimator label */\n",
              "\n",
              "#sk-container-id-2 div.sk-label label {\n",
              "  font-family: monospace;\n",
              "  font-weight: bold;\n",
              "  display: inline-block;\n",
              "  line-height: 1.2em;\n",
              "}\n",
              "\n",
              "#sk-container-id-2 div.sk-label-container {\n",
              "  text-align: center;\n",
              "}\n",
              "\n",
              "/* Estimator-specific */\n",
              "#sk-container-id-2 div.sk-estimator {\n",
              "  font-family: monospace;\n",
              "  border: 1px dotted var(--sklearn-color-border-box);\n",
              "  border-radius: 0.25em;\n",
              "  box-sizing: border-box;\n",
              "  margin-bottom: 0.5em;\n",
              "  /* unfitted */\n",
              "  background-color: var(--sklearn-color-unfitted-level-0);\n",
              "}\n",
              "\n",
              "#sk-container-id-2 div.sk-estimator.fitted {\n",
              "  /* fitted */\n",
              "  background-color: var(--sklearn-color-fitted-level-0);\n",
              "}\n",
              "\n",
              "/* on hover */\n",
              "#sk-container-id-2 div.sk-estimator:hover {\n",
              "  /* unfitted */\n",
              "  background-color: var(--sklearn-color-unfitted-level-2);\n",
              "}\n",
              "\n",
              "#sk-container-id-2 div.sk-estimator.fitted:hover {\n",
              "  /* fitted */\n",
              "  background-color: var(--sklearn-color-fitted-level-2);\n",
              "}\n",
              "\n",
              "/* Specification for estimator info (e.g. \"i\" and \"?\") */\n",
              "\n",
              "/* Common style for \"i\" and \"?\" */\n",
              "\n",
              ".sk-estimator-doc-link,\n",
              "a:link.sk-estimator-doc-link,\n",
              "a:visited.sk-estimator-doc-link {\n",
              "  float: right;\n",
              "  font-size: smaller;\n",
              "  line-height: 1em;\n",
              "  font-family: monospace;\n",
              "  background-color: var(--sklearn-color-background);\n",
              "  border-radius: 1em;\n",
              "  height: 1em;\n",
              "  width: 1em;\n",
              "  text-decoration: none !important;\n",
              "  margin-left: 0.5em;\n",
              "  text-align: center;\n",
              "  /* unfitted */\n",
              "  border: var(--sklearn-color-unfitted-level-1) 1pt solid;\n",
              "  color: var(--sklearn-color-unfitted-level-1);\n",
              "}\n",
              "\n",
              ".sk-estimator-doc-link.fitted,\n",
              "a:link.sk-estimator-doc-link.fitted,\n",
              "a:visited.sk-estimator-doc-link.fitted {\n",
              "  /* fitted */\n",
              "  border: var(--sklearn-color-fitted-level-1) 1pt solid;\n",
              "  color: var(--sklearn-color-fitted-level-1);\n",
              "}\n",
              "\n",
              "/* On hover */\n",
              "div.sk-estimator:hover .sk-estimator-doc-link:hover,\n",
              ".sk-estimator-doc-link:hover,\n",
              "div.sk-label-container:hover .sk-estimator-doc-link:hover,\n",
              ".sk-estimator-doc-link:hover {\n",
              "  /* unfitted */\n",
              "  background-color: var(--sklearn-color-unfitted-level-3);\n",
              "  color: var(--sklearn-color-background);\n",
              "  text-decoration: none;\n",
              "}\n",
              "\n",
              "div.sk-estimator.fitted:hover .sk-estimator-doc-link.fitted:hover,\n",
              ".sk-estimator-doc-link.fitted:hover,\n",
              "div.sk-label-container:hover .sk-estimator-doc-link.fitted:hover,\n",
              ".sk-estimator-doc-link.fitted:hover {\n",
              "  /* fitted */\n",
              "  background-color: var(--sklearn-color-fitted-level-3);\n",
              "  color: var(--sklearn-color-background);\n",
              "  text-decoration: none;\n",
              "}\n",
              "\n",
              "/* Span, style for the box shown on hovering the info icon */\n",
              ".sk-estimator-doc-link span {\n",
              "  display: none;\n",
              "  z-index: 9999;\n",
              "  position: relative;\n",
              "  font-weight: normal;\n",
              "  right: .2ex;\n",
              "  padding: .5ex;\n",
              "  margin: .5ex;\n",
              "  width: min-content;\n",
              "  min-width: 20ex;\n",
              "  max-width: 50ex;\n",
              "  color: var(--sklearn-color-text);\n",
              "  box-shadow: 2pt 2pt 4pt #999;\n",
              "  /* unfitted */\n",
              "  background: var(--sklearn-color-unfitted-level-0);\n",
              "  border: .5pt solid var(--sklearn-color-unfitted-level-3);\n",
              "}\n",
              "\n",
              ".sk-estimator-doc-link.fitted span {\n",
              "  /* fitted */\n",
              "  background: var(--sklearn-color-fitted-level-0);\n",
              "  border: var(--sklearn-color-fitted-level-3);\n",
              "}\n",
              "\n",
              ".sk-estimator-doc-link:hover span {\n",
              "  display: block;\n",
              "}\n",
              "\n",
              "/* \"?\"-specific style due to the `<a>` HTML tag */\n",
              "\n",
              "#sk-container-id-2 a.estimator_doc_link {\n",
              "  float: right;\n",
              "  font-size: 1rem;\n",
              "  line-height: 1em;\n",
              "  font-family: monospace;\n",
              "  background-color: var(--sklearn-color-background);\n",
              "  border-radius: 1rem;\n",
              "  height: 1rem;\n",
              "  width: 1rem;\n",
              "  text-decoration: none;\n",
              "  /* unfitted */\n",
              "  color: var(--sklearn-color-unfitted-level-1);\n",
              "  border: var(--sklearn-color-unfitted-level-1) 1pt solid;\n",
              "}\n",
              "\n",
              "#sk-container-id-2 a.estimator_doc_link.fitted {\n",
              "  /* fitted */\n",
              "  border: var(--sklearn-color-fitted-level-1) 1pt solid;\n",
              "  color: var(--sklearn-color-fitted-level-1);\n",
              "}\n",
              "\n",
              "/* On hover */\n",
              "#sk-container-id-2 a.estimator_doc_link:hover {\n",
              "  /* unfitted */\n",
              "  background-color: var(--sklearn-color-unfitted-level-3);\n",
              "  color: var(--sklearn-color-background);\n",
              "  text-decoration: none;\n",
              "}\n",
              "\n",
              "#sk-container-id-2 a.estimator_doc_link.fitted:hover {\n",
              "  /* fitted */\n",
              "  background-color: var(--sklearn-color-fitted-level-3);\n",
              "}\n",
              "</style><div id=\"sk-container-id-2\" class=\"sk-top-container\"><div class=\"sk-text-repr-fallback\"><pre>LinearRegression()</pre><b>In a Jupyter environment, please rerun this cell to show the HTML representation or trust the notebook. <br />On GitHub, the HTML representation is unable to render, please try loading this page with nbviewer.org.</b></div><div class=\"sk-container\" hidden><div class=\"sk-item\"><div class=\"sk-estimator fitted sk-toggleable\"><input class=\"sk-toggleable__control sk-hidden--visually\" id=\"sk-estimator-id-2\" type=\"checkbox\" checked><label for=\"sk-estimator-id-2\" class=\"sk-toggleable__label fitted sk-toggleable__label-arrow\"><div><div>LinearRegression</div></div><div><a class=\"sk-estimator-doc-link fitted\" rel=\"noreferrer\" target=\"_blank\" href=\"https://scikit-learn.org/1.6/modules/generated/sklearn.linear_model.LinearRegression.html\">?<span>Documentation for LinearRegression</span></a><span class=\"sk-estimator-doc-link fitted\">i<span>Fitted</span></span></div></label><div class=\"sk-toggleable__content fitted\"><pre>LinearRegression()</pre></div> </div></div></div></div>"
            ]
          },
          "metadata": {},
          "execution_count": 5
        }
      ]
    },
    {
      "cell_type": "markdown",
      "metadata": {
        "id": "4Eu80TvjAbYY"
      },
      "source": [
        "The two arguments of reg.fit() describe three data points in terms of the values of a pair of independent ('input') variables, and the corresponding target values (the 'output'). Can you identify which is which?"
      ]
    },
    {
      "cell_type": "code",
      "metadata": {
        "id": "vKxlr3ao-J22",
        "colab": {
          "base_uri": "https://localhost:8080/"
        },
        "outputId": "14c7ca6a-4d8f-4204-9653-080c8ffe527a"
      },
      "source": [
        "reg.coef_"
      ],
      "execution_count": 6,
      "outputs": [
        {
          "output_type": "execute_result",
          "data": {
            "text/plain": [
              "array([0.5, 0.5])"
            ]
          },
          "metadata": {},
          "execution_count": 6
        }
      ]
    },
    {
      "cell_type": "code",
      "metadata": {
        "id": "Pu1l3LY3CKl3",
        "colab": {
          "base_uri": "https://localhost:8080/"
        },
        "outputId": "eed002dd-286e-48fb-ccf6-42e280d04eaa"
      },
      "source": [
        "reg.intercept_"
      ],
      "execution_count": 7,
      "outputs": [
        {
          "output_type": "execute_result",
          "data": {
            "text/plain": [
              "1.1102230246251565e-16"
            ]
          },
          "metadata": {},
          "execution_count": 7
        }
      ]
    },
    {
      "cell_type": "markdown",
      "metadata": {
        "id": "YHCFKc5aBxCp"
      },
      "source": [
        "The above 2 lines of code display between them the 3 coefficients you need to define the output as a linear function of the two input variables.\n",
        "\n",
        "*   Can you now spell out the linear function y=f(x1,x2)?\n",
        "*   Is it possible to simplify f(**x**), and if so, how and why?\n",
        "\n",
        "\n"
      ]
    },
    {
      "cell_type": "markdown",
      "metadata": {
        "id": "yawluXYqH-Zm"
      },
      "source": [
        "Now we'll move on to another example borrowed the scikit-learn web site (along with some of the text).\n",
        "The example below uses only the first feature of the **diabetes** dataset, in order to illustrate the data points within the two-dimensional plot. The straight line can be seen in the plot, showing how linear regression attempts to draw a straight line that will best minimize the residual sum of squares between the observed responses in the dataset, and the responses predicted by the linear approximation.\n",
        "\n",
        "The coefficients, residual sum of squares and the coefficient of determination are also calculated.\n",
        "\n",
        "Read through the code and comments to understand what it does. This may take a while. Here is a hint:\n",
        "\n",
        " **diabetes_X = diabetes.data[:, np.newaxis, 2]**\n",
        "\n",
        "What we are doing here is selecting every row of **diabetes.data** using “**:**” but only the values from the column with index 2. Without the **np.newaxis** we would end up with a vector (since a single column has one dimension), but we want a matrix. The **np.newaxis** achieves this. You can add a line **print(diabetes_X.shape)** to see the number of rows and columns of the resulting matrix.\n",
        "\n"
      ]
    },
    {
      "cell_type": "code",
      "metadata": {
        "id": "i9WhM9Ult8c8",
        "colab": {
          "base_uri": "https://localhost:8080/",
          "height": 475
        },
        "outputId": "92014f67-ccf7-4310-bb31-58f4fa44bb2f"
      },
      "source": [
        "# This line is needed to use matplotlib in Jupyter notebook\n",
        "%matplotlib inline\n",
        "\n",
        "import matplotlib.pyplot as plt\n",
        "import numpy as np\n",
        "from sklearn import datasets\n",
        "from sklearn.metrics import mean_squared_error, r2_score\n",
        "\n",
        "# Load the diabetes dataset\n",
        "diabetes_X, diabetes_y = datasets.load_diabetes(return_X_y=True)\n",
        "\n",
        "# Use only one feature\n",
        "diabetes_X = diabetes_X[:, np.newaxis, 2]\n",
        "\n",
        "# Split the data into training/testing sets\n",
        "diabetes_X_train = diabetes_X[:-20]\n",
        "diabetes_X_test = diabetes_X[-20:]\n",
        "\n",
        "# Split the targets into training/testing sets\n",
        "diabetes_y_train = diabetes_y[:-20]\n",
        "diabetes_y_test = diabetes_y[-20:]\n",
        "\n",
        "# Create linear regression object\n",
        "regr = linear_model.LinearRegression()\n",
        "\n",
        "# Train the model using the training sets\n",
        "regr.fit(diabetes_X_train, diabetes_y_train)\n",
        "\n",
        "# Make predictions using the testing set\n",
        "diabetes_y_pred = regr.predict(diabetes_X_test)\n",
        "\n",
        "# The coefficients\n",
        "print('Coefficients: \\n', regr.coef_)\n",
        "# The mean squared error\n",
        "print('Mean squared error: %.2f'\n",
        "      % mean_squared_error(diabetes_y_test, diabetes_y_pred))\n",
        "# The coefficient of determination:\n",
        "#   1 is perfect prediction\n",
        "#   0 is as good as always predicting the mean output value (using the training data).\n",
        "#   negative values are for a model that is worse than just predicting the mean.\n",
        "print('Coefficient of determination: %.2f'\n",
        "      % r2_score(diabetes_y_test, diabetes_y_pred))\n",
        "\n",
        "# Plot outputs\n",
        "plt.scatter(diabetes_X_test, diabetes_y_test,  color='black')\n",
        "plt.plot(diabetes_X_test, diabetes_y_pred, color='blue', linewidth=3)\n",
        "\n",
        "plt.xticks(())\n",
        "plt.yticks(())\n",
        "\n",
        "plt.show()"
      ],
      "execution_count": 8,
      "outputs": [
        {
          "output_type": "stream",
          "name": "stdout",
          "text": [
            "Coefficients: \n",
            " [938.23786125]\n",
            "Mean squared error: 2548.07\n",
            "Coefficient of determination: 0.47\n"
          ]
        },
        {
          "output_type": "display_data",
          "data": {
            "text/plain": [
              "<Figure size 640x480 with 1 Axes>"
            ],
            "image/png": "[encoded data removed]"
          },
          "metadata": {}
        }
      ]
    },
    {
      "cell_type": "markdown",
      "metadata": {
        "id": "6R1glGYOMmWx"
      },
      "source": [
        "**Different train/test splits**\n",
        "\n",
        "The example you have downloaded reserves 20 datapoints for testing. Alter the example so that 10, 20, 40, 100 and 200 datapoints are put aside for testing (so 5 different training data sets are used in turn). Do the R-squared values improve as more data is kept for training?"
      ]
    },
    {
      "cell_type": "markdown",
      "metadata": {
        "id": "OunDpHYsHFKV"
      },
      "source": [
        "##Linear regression in PyTorch\n",
        "\n",
        "The linear regression object `linear_model.LinearRegression` in the code above contains an implementation (in the `fit` method) of classical ordinary least squares. When we call `regr.fit(diabetes_X_train, diabetes_y_train)`, it constructs a set of linear equations in matrix form and then solves them using a closed form solution derived from linear algebra (in fact, it just calls `scipy.linalg.lstsq`).\n",
        "\n",
        "If linear regression (i.e. fitting a linear model with a least squares loss function) is all you want to do, then this is the right way to implement it. It's fast and it guarantees finding the global optimum. But what if you decide you'd like to introduce a nonlinearity into the model when you see it doesn't fit the data very well? Or you decide you'd like to replace sum of squared errors with a different loss function? Maybe something more robust to outliers? The problem is that these variations probably don't have closed form solutions and, if they do, will be very complicated to derive by hand. If you give up on finding a closed form solution and decide to fit the model using gradient descent, you're going to have to compute the derivatives yourself by hand. This is a nightmare!\n",
        "\n",
        "So, as we did in practical 0, let's see how we can re-implement linear regression using differentiable programming giving us a foundation that could easily be extended to a more complicated model or loss function with barely any extra work."
      ]
    },
    {
      "cell_type": "code",
      "metadata": {
        "id": "xZdF2wVIHBsu"
      },
      "source": [
        "import torch\n",
        "\n",
        "# Convert dataset to PyTorch tensors\n",
        "# Note: Default floating point dtype in PyTorch is torch.float32 so we'll convert\n",
        "X_train_tensor = torch.from_numpy(np.float32(diabetes_X_train))\n",
        "Y_train_tensor = torch.from_numpy(np.float32(diabetes_y_train)).unsqueeze(1)\n",
        "X_test_tensor = torch.from_numpy(np.float32(diabetes_X_test))\n",
        "Y_test_tensor = torch.from_numpy(np.float32(diabetes_y_test)).unsqueeze(1)"
      ],
      "execution_count": 9,
      "outputs": []
    },
    {
      "cell_type": "markdown",
      "metadata": {
        "id": "nfQmyLuRI-1c"
      },
      "source": [
        "As usual, we import torch and convert our data into PyTorch tensors. By default, every layer in PyTorch operates on 32 bit floats, so we convert to that for ease. The `unsqueeze` operation is just to make the Y values have the same size as the Xs (the Xs are size $n\\times 1$ whereas the Ys are just $n$ - the unsqueeze adds the singleton dimension on the end). This is really unimportant (I call it \"tensor origami\") but you'll get an error without it."
      ]
    },
    {
      "cell_type": "markdown",
      "metadata": {
        "id": "Pq0Qr2fBJmOv"
      },
      "source": [
        "###A minimal implementation\n",
        "\n",
        "We're going to start with a minimal implementation that looks quite like practical 0. Then we'll do it again in a more flexible form that is generally better for building large, complex models in PyTorch.\n",
        "\n",
        "Let's start by defining the components of our model. We're going to do this using PyTorch *layers*. These are the basic building blocks of \"computational graphs\" - i.e. series of computations through which tensors containing data will be passed and which backpropagation can be automatically applied to. The built in layers in PyTorch are defined in `torch.nn`. In this case, we just want a single `Linear` layer that takes one input ($x$) and provides one output ($y$) which is computed via the linear function: $y=ax+b$."
      ]
    },
    {
      "cell_type": "code",
      "metadata": {
        "id": "p8NfNguCusFi"
      },
      "source": [
        "linear = torch.nn.Linear(1, 1)"
      ],
      "execution_count": 10,
      "outputs": []
    },
    {
      "cell_type": "markdown",
      "metadata": {
        "id": "86tJCzfavMjv"
      },
      "source": [
        "This has created an instance of the Linear layer with its own parameters ($a$ and $b$ in the equation above) that by default have `requires_grad` set to True (i.e. they will be updated, or learnt, if we start doing optimisation through the layer). By default, the parameters are initialised randomly. We can inspect their initial values ($a$ is called `weight` and $b$ is called `bias`):"
      ]
    },
    {
      "cell_type": "code",
      "metadata": {
        "id": "kFsxSdjVviF3",
        "colab": {
          "base_uri": "https://localhost:8080/"
        },
        "outputId": "0b1c60eb-0d59-4f16-cb47-bc083207f5c1"
      },
      "source": [
        "print('Weight: %.2f'% linear.weight)\n",
        "print('Bias: %.2f'% linear.bias)"
      ],
      "execution_count": 11,
      "outputs": [
        {
          "output_type": "stream",
          "name": "stdout",
          "text": [
            "Weight: -0.35\n",
            "Bias: -0.46\n"
          ]
        }
      ]
    },
    {
      "cell_type": "markdown",
      "metadata": {
        "id": "CLfvB1-rvxIc"
      },
      "source": [
        "We're now ready to set up the optimiser. Here, we will use the `parameters` method of the linear layer which returns a list of its optimisable parameters. Also, I have set the learning rate to a value that works ok for this data (i.e. I did the tuning for you - this is a skill you will need to develop later)."
      ]
    },
    {
      "cell_type": "code",
      "metadata": {
        "id": "cINY5IAvwDTh"
      },
      "source": [
        "optim = torch.optim.SGD(linear.parameters(), lr=0.6)"
      ],
      "execution_count": 12,
      "outputs": []
    },
    {
      "cell_type": "markdown",
      "metadata": {
        "id": "nPsi6WsQwR8V"
      },
      "source": [
        "Now it's time to set up our main training loop and run the optimisation."
      ]
    },
    {
      "cell_type": "code",
      "metadata": {
        "id": "hlJ8n8NOwRF6",
        "colab": {
          "base_uri": "https://localhost:8080/"
        },
        "outputId": "b36ae223-343d-4186-d2bc-b838000ba7b5"
      },
      "source": [
        "epochs = 2000\n",
        "for epoch in range(epochs):\n",
        "    # Pass the training x values through the linear layer to get y predictions\n",
        "    y_predict = linear(X_train_tensor)\n",
        "    # Compute the loss as mean squared error between predictions and given y\n",
        "    loss = ((y_predict-Y_train_tensor)**2.0).mean()\n",
        "    # Reset the gradients to zero\n",
        "    optim.zero_grad()\n",
        "    # Back propagate from the loss through the layers\n",
        "    loss.backward()\n",
        "    # Take a gradient descent step\n",
        "    optim.step()\n",
        "    if not epoch % 200:\n",
        "        # Print out the loss every 200 iterations\n",
        "        print('epoch {}, loss {}'.format(epoch, loss.item()))"
      ],
      "execution_count": 13,
      "outputs": [
        {
          "output_type": "stream",
          "name": "stdout",
          "text": [
            "epoch 0, loss 29610.796875\n",
            "epoch 200, loss 4626.68017578125\n",
            "epoch 400, loss 4181.1796875\n",
            "epoch 600, loss 4031.17138671875\n",
            "epoch 800, loss 3980.6611328125\n",
            "epoch 1000, loss 3963.65380859375\n",
            "epoch 1200, loss 3957.927490234375\n",
            "epoch 1400, loss 3955.9990234375\n",
            "epoch 1600, loss 3955.349609375\n",
            "epoch 1800, loss 3955.131591796875\n"
          ]
        }
      ]
    },
    {
      "cell_type": "markdown",
      "metadata": {
        "id": "tkW0ElaYw9u7"
      },
      "source": [
        "First let's verify that the optimisation has indeed updated the parameters:"
      ]
    },
    {
      "cell_type": "code",
      "metadata": {
        "id": "XktGAUYnxCFq",
        "colab": {
          "base_uri": "https://localhost:8080/"
        },
        "outputId": "03458ab7-89d7-483d-ba8b-9e8680d287b4"
      },
      "source": [
        "print('Weight: %.2f'% linear.weight)\n",
        "print('Bias: %.2f'% linear.bias)"
      ],
      "execution_count": 14,
      "outputs": [
        {
          "output_type": "stream",
          "name": "stdout",
          "text": [
            "Weight: 934.18\n",
            "Bias: 152.92\n"
          ]
        }
      ]
    },
    {
      "cell_type": "markdown",
      "metadata": {
        "id": "3thN9EkzxEc4"
      },
      "source": [
        "The weight should now be very similar to the result from the closed form solution above. Let's check that the error on the predictions is also similar:"
      ]
    },
    {
      "cell_type": "code",
      "metadata": {
        "id": "CFicphZYxN1V",
        "colab": {
          "base_uri": "https://localhost:8080/"
        },
        "outputId": "e8feadc8-78b1-41ef-9e4f-6eae4819ffc6"
      },
      "source": [
        "y_predict = linear(X_test_tensor)\n",
        "loss = ((y_predict-Y_test_tensor)**2.0).mean()\n",
        "print('Mean squared error: %.2f'% loss)"
      ],
      "execution_count": 15,
      "outputs": [
        {
          "output_type": "stream",
          "name": "stdout",
          "text": [
            "Mean squared error: 2552.73\n"
          ]
        }
      ]
    },
    {
      "cell_type": "markdown",
      "metadata": {
        "id": "ZQnGLLB0aM02"
      },
      "source": [
        "###A more PyTorch solution\n",
        "\n",
        "Let's see a slightly different version of the same thing above:\n",
        "\n"
      ]
    },
    {
      "cell_type": "code",
      "metadata": {
        "id": "ZM4pdsbxaL2L",
        "colab": {
          "base_uri": "https://localhost:8080/"
        },
        "outputId": "5a161376-687f-45ec-e716-8882d42efe7e"
      },
      "source": [
        "class linearRegression(torch.nn.Module):\n",
        "    def __init__(self, inputSize, outputSize):\n",
        "        # Call superclass constructor\n",
        "        super(linearRegression, self).__init__()\n",
        "        # Initialise contents of model - in this case a single linear layer\n",
        "        self.linear = torch.nn.Linear(inputSize, outputSize)\n",
        "\n",
        "    def forward(self, x):\n",
        "        # Forward pass through the model is simply application of linear layer\n",
        "        y = self.linear(x)\n",
        "        return y\n",
        "\n",
        "# Instantiate model\n",
        "model = linearRegression(1,1)\n",
        "# Instantiate loss function\n",
        "criterion = torch.nn.MSELoss()\n",
        "# Setup optimiser\n",
        "optim = torch.optim.SGD(model.parameters(), lr=0.6)\n",
        "\n",
        "# Main training loop\n",
        "for epoch in range(epochs):\n",
        "    y_predict = model(X_train_tensor)\n",
        "    loss = criterion(y_predict,Y_train_tensor)\n",
        "    optim.zero_grad()\n",
        "    loss.backward()\n",
        "    optim.step()\n",
        "    if not epoch % 200:\n",
        "        # Print out the loss every 200 iterations\n",
        "        print('epoch {}, loss {}'.format(epoch, loss.item()))\n",
        "\n",
        "y_predict = model(X_test_tensor)\n",
        "loss = criterion(y_predict,Y_test_tensor)\n",
        "print('Mean squared error: %.2f'% loss)"
      ],
      "execution_count": 16,
      "outputs": [
        {
          "output_type": "stream",
          "name": "stdout",
          "text": [
            "epoch 0, loss 29193.787109375\n",
            "epoch 200, loss 4626.1357421875\n",
            "epoch 400, loss 4180.99560546875\n",
            "epoch 600, loss 4031.109619140625\n",
            "epoch 800, loss 3980.64013671875\n",
            "epoch 1000, loss 3963.646728515625\n",
            "epoch 1200, loss 3957.9248046875\n",
            "epoch 1400, loss 3955.998046875\n",
            "epoch 1600, loss 3955.34912109375\n",
            "epoch 1800, loss 3955.131103515625\n",
            "Mean squared error: 2552.72\n"
          ]
        }
      ]
    },
    {
      "cell_type": "markdown",
      "metadata": {
        "id": "krGomu1FoXkl"
      },
      "source": [
        "There are only two differences:\n",
        "1. We put the linear layer inside a `torch.nn.Module` object. This is a neat container for the layers in a model but it has many other benefits that we'll see later. For example, note that this object also has a `parameters()` method which returns a list of all trainable parameters of all layers within the model. You can see that if the model had a more complex structure with many layers, this would be preferable over having to call `parameters()` on every layer and putting them all in a list when setting up the optimiser.\n",
        "2. We used a built in layer for the mean squared error loss, `torch.nn.MSELoss()`."
      ]
    },
    {
      "cell_type": "markdown",
      "metadata": {
        "id": "hipMhTTR9W17"
      },
      "source": [
        "###Exercises\n",
        "\n",
        "1. Introduce an outlier into the training set. i.e. add an extra data point to `X_train_tensor` and `Y_train_tensor` where the x value is similar to the other training data but the y value is orders of magnitudes bigger.\n",
        "2. Re-run the linear least squares code as above. Add code to plot the data without the outlier and the line of best fit. How bad is the fit including the outlier?\n",
        "3. Can a different loss function provide robustness to outliers? Take a look at [pytorch.org/docs/stable/nn.html#loss-functions](https://pytorch.org/docs/stable/nn.html#loss-functions) to see the built in loss functions available. L1 (absolute errors rather than squared errors) should be less sensitive to extreme values. Give it a try."
      ]
    }
  ]
}